{
  "nbformat": 4,
  "nbformat_minor": 0,
  "metadata": {
    "colab": {
      "name": "Iris_ML_project.ipynb",
      "provenance": [],
      "collapsed_sections": [
        "e1WaeyxbMn8q",
        "4B2mi6R3dq9S",
        "YtzISZGacj6O"
      ],
      "toc_visible": true,
      "include_colab_link": true
    },
    "kernelspec": {
      "name": "python3",
      "display_name": "Python 3"
    }
  },
  "cells": [
    {
      "cell_type": "markdown",
      "metadata": {
        "id": "view-in-github",
        "colab_type": "text"
      },
      "source": [
        "<a href=\"https://colab.research.google.com/github/KeletsoHub/1st-Machine-Learning-project/blob/master/Iris_ML_project.ipynb\" target=\"_parent\"><img src=\"https://colab.research.google.com/assets/colab-badge.svg\" alt=\"Open In Colab\"/></a>"
      ]
    },
    {
      "cell_type": "markdown",
      "metadata": {
        "id": "8JxfZLQiMiKw",
        "colab_type": "text"
      },
      "source": [
        "# Import"
      ]
    },
    {
      "cell_type": "code",
      "metadata": {
        "id": "XwHbJVtAHTrQ",
        "colab_type": "code",
        "colab": {}
      },
      "source": [
        "import pandas as pd \n",
        "import matplotlib.pyplot as plt\n",
        "from pandas.plotting import scatter_matrix \n",
        "%matplotlib inline\n",
        "\n",
        "\n",
        "# evaluation\n",
        "from sklearn.model_selection import train_test_split\n",
        "from sklearn.model_selection import cross_val_score\n",
        "from sklearn.model_selection import StratifiedKFold\n",
        "from sklearn.metrics import classification_report\n",
        "from sklearn.metrics import accuracy_score\n",
        "from sklearn.metrics import confusion_matrix\n",
        "\n",
        "\n",
        "\n",
        "# models\n",
        "from sklearn.linear_model import LogisticRegression\n",
        "from sklearn.tree import DecisionTreeClassifier\n",
        "from sklearn.neighbors import KNeighborsClassifier\n",
        "from sklearn.discriminant_analysis import LinearDiscriminantAnalysis\n",
        "from sklearn.naive_bayes import GaussianNB\n",
        "from sklearn.svm import SVC"
      ],
      "execution_count": 0,
      "outputs": []
    },
    {
      "cell_type": "markdown",
      "metadata": {
        "id": "e1WaeyxbMn8q",
        "colab_type": "text"
      },
      "source": [
        "# load data\n"
      ]
    },
    {
      "cell_type": "code",
      "metadata": {
        "id": "0qSfQHi9Kd-8",
        "colab_type": "code",
        "colab": {}
      },
      "source": [
        "url = 'https://raw.githubusercontent.com/AllieUbisse/end-to-end-ml/master/datasets/iris/iris_dataset.csv'\n",
        "df = pd.read_csv(url, index_col=0)\n"
      ],
      "execution_count": 0,
      "outputs": []
    },
    {
      "cell_type": "markdown",
      "metadata": {
        "id": "ASjLEg5qMwFv",
        "colab_type": "text"
      },
      "source": [
        "# EDA"
      ]
    },
    {
      "cell_type": "markdown",
      "metadata": {
        "id": "4B2mi6R3dq9S",
        "colab_type": "text"
      },
      "source": [
        "## Quick look up to data\n",
        "\n",
        "> Indented block\n",
        "\n"
      ]
    },
    {
      "cell_type": "code",
      "metadata": {
        "id": "JKpgqymjMSlY",
        "colab_type": "code",
        "outputId": "ecfc12b6-63f4-472d-8b45-293516b9030f",
        "colab": {
          "base_uri": "https://localhost:8080/",
          "height": 195
        }
      },
      "source": [
        "# top 5 rows\n",
        "df.head()"
      ],
      "execution_count": 0,
      "outputs": [
        {
          "output_type": "execute_result",
          "data": {
            "text/html": [
              "<div>\n",
              "<style scoped>\n",
              "    .dataframe tbody tr th:only-of-type {\n",
              "        vertical-align: middle;\n",
              "    }\n",
              "\n",
              "    .dataframe tbody tr th {\n",
              "        vertical-align: top;\n",
              "    }\n",
              "\n",
              "    .dataframe thead th {\n",
              "        text-align: right;\n",
              "    }\n",
              "</style>\n",
              "<table border=\"1\" class=\"dataframe\">\n",
              "  <thead>\n",
              "    <tr style=\"text-align: right;\">\n",
              "      <th></th>\n",
              "      <th>sepal_length</th>\n",
              "      <th>sepal_width</th>\n",
              "      <th>petal_length</th>\n",
              "      <th>petal_width</th>\n",
              "      <th>class</th>\n",
              "    </tr>\n",
              "  </thead>\n",
              "  <tbody>\n",
              "    <tr>\n",
              "      <th>0</th>\n",
              "      <td>5.1</td>\n",
              "      <td>3.5</td>\n",
              "      <td>1.4</td>\n",
              "      <td>0.2</td>\n",
              "      <td>Iris-setosa</td>\n",
              "    </tr>\n",
              "    <tr>\n",
              "      <th>1</th>\n",
              "      <td>4.9</td>\n",
              "      <td>3.0</td>\n",
              "      <td>1.4</td>\n",
              "      <td>0.2</td>\n",
              "      <td>Iris-setosa</td>\n",
              "    </tr>\n",
              "    <tr>\n",
              "      <th>2</th>\n",
              "      <td>4.7</td>\n",
              "      <td>3.2</td>\n",
              "      <td>1.3</td>\n",
              "      <td>0.2</td>\n",
              "      <td>Iris-setosa</td>\n",
              "    </tr>\n",
              "    <tr>\n",
              "      <th>3</th>\n",
              "      <td>4.6</td>\n",
              "      <td>3.1</td>\n",
              "      <td>1.5</td>\n",
              "      <td>0.2</td>\n",
              "      <td>Iris-setosa</td>\n",
              "    </tr>\n",
              "    <tr>\n",
              "      <th>4</th>\n",
              "      <td>5.0</td>\n",
              "      <td>3.6</td>\n",
              "      <td>1.4</td>\n",
              "      <td>0.2</td>\n",
              "      <td>Iris-setosa</td>\n",
              "    </tr>\n",
              "  </tbody>\n",
              "</table>\n",
              "</div>"
            ],
            "text/plain": [
              "   sepal_length  sepal_width  petal_length  petal_width        class\n",
              "0           5.1          3.5           1.4          0.2  Iris-setosa\n",
              "1           4.9          3.0           1.4          0.2  Iris-setosa\n",
              "2           4.7          3.2           1.3          0.2  Iris-setosa\n",
              "3           4.6          3.1           1.5          0.2  Iris-setosa\n",
              "4           5.0          3.6           1.4          0.2  Iris-setosa"
            ]
          },
          "metadata": {
            "tags": []
          },
          "execution_count": 20
        }
      ]
    },
    {
      "cell_type": "code",
      "metadata": {
        "id": "bq6qEZb3MZMh",
        "colab_type": "code",
        "outputId": "de1e1fdf-1d38-4a3b-b5aa-c93d73cd1913",
        "colab": {
          "base_uri": "https://localhost:8080/",
          "height": 195
        }
      },
      "source": [
        "# last 5 rows\n",
        "df.tail()"
      ],
      "execution_count": 0,
      "outputs": [
        {
          "output_type": "execute_result",
          "data": {
            "text/html": [
              "<div>\n",
              "<style scoped>\n",
              "    .dataframe tbody tr th:only-of-type {\n",
              "        vertical-align: middle;\n",
              "    }\n",
              "\n",
              "    .dataframe tbody tr th {\n",
              "        vertical-align: top;\n",
              "    }\n",
              "\n",
              "    .dataframe thead th {\n",
              "        text-align: right;\n",
              "    }\n",
              "</style>\n",
              "<table border=\"1\" class=\"dataframe\">\n",
              "  <thead>\n",
              "    <tr style=\"text-align: right;\">\n",
              "      <th></th>\n",
              "      <th>sepal_length</th>\n",
              "      <th>sepal_width</th>\n",
              "      <th>petal_length</th>\n",
              "      <th>petal_width</th>\n",
              "      <th>class</th>\n",
              "    </tr>\n",
              "  </thead>\n",
              "  <tbody>\n",
              "    <tr>\n",
              "      <th>145</th>\n",
              "      <td>6.7</td>\n",
              "      <td>3.0</td>\n",
              "      <td>5.2</td>\n",
              "      <td>2.3</td>\n",
              "      <td>Iris-virginica</td>\n",
              "    </tr>\n",
              "    <tr>\n",
              "      <th>146</th>\n",
              "      <td>6.3</td>\n",
              "      <td>2.5</td>\n",
              "      <td>5.0</td>\n",
              "      <td>1.9</td>\n",
              "      <td>Iris-virginica</td>\n",
              "    </tr>\n",
              "    <tr>\n",
              "      <th>147</th>\n",
              "      <td>6.5</td>\n",
              "      <td>3.0</td>\n",
              "      <td>5.2</td>\n",
              "      <td>2.0</td>\n",
              "      <td>Iris-virginica</td>\n",
              "    </tr>\n",
              "    <tr>\n",
              "      <th>148</th>\n",
              "      <td>6.2</td>\n",
              "      <td>3.4</td>\n",
              "      <td>5.4</td>\n",
              "      <td>2.3</td>\n",
              "      <td>Iris-virginica</td>\n",
              "    </tr>\n",
              "    <tr>\n",
              "      <th>149</th>\n",
              "      <td>5.9</td>\n",
              "      <td>3.0</td>\n",
              "      <td>5.1</td>\n",
              "      <td>1.8</td>\n",
              "      <td>Iris-virginica</td>\n",
              "    </tr>\n",
              "  </tbody>\n",
              "</table>\n",
              "</div>"
            ],
            "text/plain": [
              "     sepal_length  sepal_width  petal_length  petal_width           class\n",
              "145           6.7          3.0           5.2          2.3  Iris-virginica\n",
              "146           6.3          2.5           5.0          1.9  Iris-virginica\n",
              "147           6.5          3.0           5.2          2.0  Iris-virginica\n",
              "148           6.2          3.4           5.4          2.3  Iris-virginica\n",
              "149           5.9          3.0           5.1          1.8  Iris-virginica"
            ]
          },
          "metadata": {
            "tags": []
          },
          "execution_count": 21
        }
      ]
    },
    {
      "cell_type": "code",
      "metadata": {
        "id": "zApUcEgjKu--",
        "colab_type": "code",
        "outputId": "149a6482-635d-48fb-81b9-979a00ce9bc1",
        "colab": {
          "base_uri": "https://localhost:8080/",
          "height": 50
        }
      },
      "source": [
        "# get shape of the data\n",
        "# df.shape\n",
        "print(f' rows(observations) = {df.shape[0]}')\n",
        "print(f' columns(variables/ features ) = {df.shape[1]}')"
      ],
      "execution_count": 0,
      "outputs": [
        {
          "output_type": "stream",
          "text": [
            " rows(observations) = 150\n",
            " columns(variables/ features ) = 5\n"
          ],
          "name": "stdout"
        }
      ]
    },
    {
      "cell_type": "code",
      "metadata": {
        "id": "jf9NhL-5K3m6",
        "colab_type": "code",
        "outputId": "5c76a78e-7936-4d74-fcf3-4d90e0aa6cee",
        "colab": {
          "base_uri": "https://localhost:8080/",
          "height": 118
        }
      },
      "source": [
        "# check missing data\n",
        "df.isnull().mean()"
      ],
      "execution_count": 0,
      "outputs": [
        {
          "output_type": "execute_result",
          "data": {
            "text/plain": [
              "sepal_length    0.0\n",
              "sepal_width     0.0\n",
              "petal_length    0.0\n",
              "petal_width     0.0\n",
              "class           0.0\n",
              "dtype: float64"
            ]
          },
          "metadata": {
            "tags": []
          },
          "execution_count": 24
        }
      ]
    },
    {
      "cell_type": "code",
      "metadata": {
        "id": "unC2c70SXiFk",
        "colab_type": "code",
        "outputId": "4046085b-571f-44ac-8bd8-47e378a37d6f",
        "colab": {
          "base_uri": "https://localhost:8080/",
          "height": 118
        }
      },
      "source": [
        "# data types\n",
        "df.dtypes"
      ],
      "execution_count": 0,
      "outputs": [
        {
          "output_type": "execute_result",
          "data": {
            "text/plain": [
              "sepal_length    float64\n",
              "sepal_width     float64\n",
              "petal_length    float64\n",
              "petal_width     float64\n",
              "class            object\n",
              "dtype: object"
            ]
          },
          "metadata": {
            "tags": []
          },
          "execution_count": 43
        }
      ]
    },
    {
      "cell_type": "code",
      "metadata": {
        "id": "8SsYiHliOsTn",
        "colab_type": "code",
        "outputId": "dd77f45a-d6ad-444e-e717-75552a7ffcfc",
        "colab": {
          "base_uri": "https://localhost:8080/",
          "height": 101
        }
      },
      "source": [
        "# distribution by class\n",
        " df.groupby('class').size()\n"
      ],
      "execution_count": 0,
      "outputs": [
        {
          "output_type": "execute_result",
          "data": {
            "text/plain": [
              "class\n",
              "Iris-setosa        50\n",
              "Iris-versicolor    50\n",
              "Iris-virginica     50\n",
              "dtype: int64"
            ]
          },
          "metadata": {
            "tags": []
          },
          "execution_count": 26
        }
      ]
    },
    {
      "cell_type": "code",
      "metadata": {
        "id": "qNuVc3i_PqdB",
        "colab_type": "code",
        "outputId": "eb52f813-3c67-4ab7-a8c8-c009c76a8bbc",
        "colab": {
          "base_uri": "https://localhost:8080/",
          "height": 284
        }
      },
      "source": [
        "# summary statistics\n",
        "pd.set_option('precision',3)\n",
        "df.describe()"
      ],
      "execution_count": 0,
      "outputs": [
        {
          "output_type": "execute_result",
          "data": {
            "text/html": [
              "<div>\n",
              "<style scoped>\n",
              "    .dataframe tbody tr th:only-of-type {\n",
              "        vertical-align: middle;\n",
              "    }\n",
              "\n",
              "    .dataframe tbody tr th {\n",
              "        vertical-align: top;\n",
              "    }\n",
              "\n",
              "    .dataframe thead th {\n",
              "        text-align: right;\n",
              "    }\n",
              "</style>\n",
              "<table border=\"1\" class=\"dataframe\">\n",
              "  <thead>\n",
              "    <tr style=\"text-align: right;\">\n",
              "      <th></th>\n",
              "      <th>sepal_length</th>\n",
              "      <th>sepal_width</th>\n",
              "      <th>petal_length</th>\n",
              "      <th>petal_width</th>\n",
              "    </tr>\n",
              "  </thead>\n",
              "  <tbody>\n",
              "    <tr>\n",
              "      <th>count</th>\n",
              "      <td>150.000</td>\n",
              "      <td>150.000</td>\n",
              "      <td>150.000</td>\n",
              "      <td>150.000</td>\n",
              "    </tr>\n",
              "    <tr>\n",
              "      <th>mean</th>\n",
              "      <td>5.843</td>\n",
              "      <td>3.054</td>\n",
              "      <td>3.759</td>\n",
              "      <td>1.199</td>\n",
              "    </tr>\n",
              "    <tr>\n",
              "      <th>std</th>\n",
              "      <td>0.828</td>\n",
              "      <td>0.434</td>\n",
              "      <td>1.764</td>\n",
              "      <td>0.763</td>\n",
              "    </tr>\n",
              "    <tr>\n",
              "      <th>min</th>\n",
              "      <td>4.300</td>\n",
              "      <td>2.000</td>\n",
              "      <td>1.000</td>\n",
              "      <td>0.100</td>\n",
              "    </tr>\n",
              "    <tr>\n",
              "      <th>25%</th>\n",
              "      <td>5.100</td>\n",
              "      <td>2.800</td>\n",
              "      <td>1.600</td>\n",
              "      <td>0.300</td>\n",
              "    </tr>\n",
              "    <tr>\n",
              "      <th>50%</th>\n",
              "      <td>5.800</td>\n",
              "      <td>3.000</td>\n",
              "      <td>4.350</td>\n",
              "      <td>1.300</td>\n",
              "    </tr>\n",
              "    <tr>\n",
              "      <th>75%</th>\n",
              "      <td>6.400</td>\n",
              "      <td>3.300</td>\n",
              "      <td>5.100</td>\n",
              "      <td>1.800</td>\n",
              "    </tr>\n",
              "    <tr>\n",
              "      <th>max</th>\n",
              "      <td>7.900</td>\n",
              "      <td>4.400</td>\n",
              "      <td>6.900</td>\n",
              "      <td>2.500</td>\n",
              "    </tr>\n",
              "  </tbody>\n",
              "</table>\n",
              "</div>"
            ],
            "text/plain": [
              "       sepal_length  sepal_width  petal_length  petal_width\n",
              "count       150.000      150.000       150.000      150.000\n",
              "mean          5.843        3.054         3.759        1.199\n",
              "std           0.828        0.434         1.764        0.763\n",
              "min           4.300        2.000         1.000        0.100\n",
              "25%           5.100        2.800         1.600        0.300\n",
              "50%           5.800        3.000         4.350        1.300\n",
              "75%           6.400        3.300         5.100        1.800\n",
              "max           7.900        4.400         6.900        2.500"
            ]
          },
          "metadata": {
            "tags": []
          },
          "execution_count": 29
        }
      ]
    },
    {
      "cell_type": "markdown",
      "metadata": {
        "id": "RIrPrykaRA54",
        "colab_type": "text"
      },
      "source": [
        "Iris dataset [ @UCi](http://archive.ics.uci.edu/ml/datasets/iris)"
      ]
    },
    {
      "cell_type": "code",
      "metadata": {
        "id": "ODLJvhy1QrtD",
        "colab_type": "code",
        "outputId": "65c33c94-95a3-47bd-bab1-ff0b4b98f787",
        "colab": {
          "base_uri": "https://localhost:8080/",
          "height": 166
        }
      },
      "source": [
        "# correlation between the features\n",
        "corr_matrix = df.corr()\n",
        "corr_matrix"
      ],
      "execution_count": 0,
      "outputs": [
        {
          "output_type": "execute_result",
          "data": {
            "text/html": [
              "<div>\n",
              "<style scoped>\n",
              "    .dataframe tbody tr th:only-of-type {\n",
              "        vertical-align: middle;\n",
              "    }\n",
              "\n",
              "    .dataframe tbody tr th {\n",
              "        vertical-align: top;\n",
              "    }\n",
              "\n",
              "    .dataframe thead th {\n",
              "        text-align: right;\n",
              "    }\n",
              "</style>\n",
              "<table border=\"1\" class=\"dataframe\">\n",
              "  <thead>\n",
              "    <tr style=\"text-align: right;\">\n",
              "      <th></th>\n",
              "      <th>sepal_length</th>\n",
              "      <th>sepal_width</th>\n",
              "      <th>petal_length</th>\n",
              "      <th>petal_width</th>\n",
              "    </tr>\n",
              "  </thead>\n",
              "  <tbody>\n",
              "    <tr>\n",
              "      <th>sepal_length</th>\n",
              "      <td>1.000</td>\n",
              "      <td>-0.109</td>\n",
              "      <td>0.872</td>\n",
              "      <td>0.818</td>\n",
              "    </tr>\n",
              "    <tr>\n",
              "      <th>sepal_width</th>\n",
              "      <td>-0.109</td>\n",
              "      <td>1.000</td>\n",
              "      <td>-0.421</td>\n",
              "      <td>-0.357</td>\n",
              "    </tr>\n",
              "    <tr>\n",
              "      <th>petal_length</th>\n",
              "      <td>0.872</td>\n",
              "      <td>-0.421</td>\n",
              "      <td>1.000</td>\n",
              "      <td>0.963</td>\n",
              "    </tr>\n",
              "    <tr>\n",
              "      <th>petal_width</th>\n",
              "      <td>0.818</td>\n",
              "      <td>-0.357</td>\n",
              "      <td>0.963</td>\n",
              "      <td>1.000</td>\n",
              "    </tr>\n",
              "  </tbody>\n",
              "</table>\n",
              "</div>"
            ],
            "text/plain": [
              "              sepal_length  sepal_width  petal_length  petal_width\n",
              "sepal_length         1.000       -0.109         0.872        0.818\n",
              "sepal_width         -0.109        1.000        -0.421       -0.357\n",
              "petal_length         0.872       -0.421         1.000        0.963\n",
              "petal_width          0.818       -0.357         0.963        1.000"
            ]
          },
          "metadata": {
            "tags": []
          },
          "execution_count": 39
        }
      ]
    },
    {
      "cell_type": "markdown",
      "metadata": {
        "id": "IX1RwfM0TxMO",
        "colab_type": "text"
      },
      "source": [
        "A correlation of -1 or 1 shows a full negative (-1) or positive (1) correlation respectively. Whereas a value of 0 shows no correlation at all.\n",
        "\n",
        "- **positive correlation** (towards +1):\n",
        "  - strong positive correlation {0.5,...,1}\n",
        "  - weak positive correlation {0.0001,...,0.4}\n",
        "- **negative correlation** ( towards -1):\n",
        "  - strong negative correlation {-0.5,...,-1}\n",
        "  - weak negative correlation {-0.0001,...,-0.4}\n",
        "\n",
        "Some machine learning algorithms like **linear and logistic regression** can suffer poor performance if there are highly correlated attributes in your dataset."
      ]
    },
    {
      "cell_type": "code",
      "metadata": {
        "id": "1KDh7v9ySdO7",
        "colab_type": "code",
        "outputId": "e6f13e48-7713-4de4-cad6-f034a885803e",
        "colab": {
          "base_uri": "https://localhost:8080/",
          "height": 101
        }
      },
      "source": [
        "# Skewness \n",
        "df.skew()"
      ],
      "execution_count": 0,
      "outputs": [
        {
          "output_type": "execute_result",
          "data": {
            "text/plain": [
              "sepal_length    0.315\n",
              "sepal_width     0.334\n",
              "petal_length   -0.274\n",
              "petal_width    -0.105\n",
              "dtype: float64"
            ]
          },
          "metadata": {
            "tags": []
          },
          "execution_count": 40
        }
      ]
    },
    {
      "cell_type": "markdown",
      "metadata": {
        "id": "49KJ4H_IVexg",
        "colab_type": "text"
      },
      "source": [
        "[skew](https://www.google.com/url?sa=i&url=https%3A%2F%2Fcodeburst.io%2F2-important-statistics-terms-you-need-to-know-in-data-science-skewness-and-kurtosis-388fef94eeaa&psig=AOvVaw02V6Y0SvUEcXEHJRpj_zKs&ust=1586226781818000&source=images&cd=vfe&ved=0CAIQjRxqFwoTCID8iLbh0ugCFQAAAAAdAAAAABAD)"
      ]
    },
    {
      "cell_type": "markdown",
      "metadata": {
        "id": "YtzISZGacj6O",
        "colab_type": "text"
      },
      "source": [
        "## visualizations\n",
        "\n",
        "We are going to look at two types of plots:\n",
        "\n",
        "- Univariate plots to better understand each attribute.\n",
        "- Multivariate plots to better understand the relationships between attributes."
      ]
    },
    {
      "cell_type": "code",
      "metadata": {
        "id": "I10q7Chccowz",
        "colab_type": "code",
        "outputId": "9966c59d-b078-4274-8a14-03241b2efdcd",
        "colab": {
          "base_uri": "https://localhost:8080/",
          "height": 378
        }
      },
      "source": [
        "# univariate plots using box plot since we have numeric features\n",
        "df.plot(kind='box',\n",
        "             subplots=True, \n",
        "            sharex=False, sharey=False, \n",
        "             layout=(2,2),\n",
        "             figsize=(8,6))\n",
        "\n",
        "plt.show()"
      ],
      "execution_count": 0,
      "outputs": [
        {
          "output_type": "display_data",
          "data": {
            "image/png": "[encoded data removed]",
            "text/plain": [
              "<Figure size 576x432 with 4 Axes>"
            ]
          },
          "metadata": {
            "tags": []
          }
        }
      ]
    },
    {
      "cell_type": "code",
      "metadata": {
        "id": "DIMl7W9dgEHj",
        "colab_type": "code",
        "outputId": "141a6afc-3be4-4dfb-9ccc-3d811499047c",
        "colab": {
          "base_uri": "https://localhost:8080/",
          "height": 374
        }
      },
      "source": [
        "# histogram \n",
        "df.plot(kind='kde',\n",
        "             subplots=True,\n",
        "             sharex=False, sharey=False,\n",
        "             layout=(2,2),\n",
        "             figsize=(8,6))\n",
        "\n",
        "plt.show()"
      ],
      "execution_count": 0,
      "outputs": [
        {
          "output_type": "display_data",
          "data": {
            "image/png": "[encoded data removed]",
            "text/plain": [
              "<Figure size 576x432 with 4 Axes>"
            ]
          },
          "metadata": {
            "tags": []
          }
        }
      ]
    },
    {
      "cell_type": "code",
      "metadata": {
        "id": "Cxe5rY57h2ss",
        "colab_type": "code",
        "outputId": "94b66c36-a7f7-4a71-df95-93c94e64c3c4",
        "colab": {
          "base_uri": "https://localhost:8080/",
          "height": 392
        }
      },
      "source": [
        "scatter_matrix(df, figsize=(8,6))\n",
        "plt.show()"
      ],
      "execution_count": 0,
      "outputs": [
        {
          "output_type": "display_data",
          "data": {
            "image/png": "[encoded data removed]",
            "text/plain": [
              "<Figure size 576x432 with 16 Axes>"
            ]
          },
          "metadata": {
            "tags": []
          }
        }
      ]
    },
    {
      "cell_type": "markdown",
      "metadata": {
        "id": "gae3hVvhjsIj",
        "colab_type": "text"
      },
      "source": [
        "# Evaluate Algorithms\n",
        "\n",
        "- Separate out a validation dataset.\n",
        "- Set-up the test harness to use 10-fold cross validation.\n",
        "- Build multiple different models to predict species from flower measurements\n",
        "- Select the best model.\n",
        "\n",
        "**NOTE**: **petal_width** is founded to be **highly correlated** with **petal_length**, so we **drop one**, in our case is **petal_width**\n",
        "\n",
        "```python\n",
        "# evaluation\n",
        "from sklearn.model_selection import train_test_split\n",
        "\n",
        "X = df.drop(['class','petal_width'], axis=1)\n",
        "```"
      ]
    },
    {
      "cell_type": "code",
      "metadata": {
        "id": "kzU05fpPkQ6L",
        "colab_type": "code",
        "outputId": "f370f0db-6bfa-4dc3-c47a-fbec30a3a98b",
        "colab": {
          "base_uri": "https://localhost:8080/",
          "height": 34
        }
      },
      "source": [
        "# separate the label from the features\n",
        "# X = df.drop(['class'], axis=1)\n",
        "X = df.drop(['class','petal_width'], axis=1)\n",
        "y= df['class']\n",
        "\n",
        "# split dataset into train and test subsets\n",
        "X_train, X_test, y_train, y_test = train_test_split(X, y, test_size=0.2, random_state=1)\n",
        "\n",
        "# show size of new subsets\n",
        "X_train.shape, X_test.shape"
      ],
      "execution_count": 73,
      "outputs": [
        {
          "output_type": "execute_result",
          "data": {
            "text/plain": [
              "((120, 3), (30, 3))"
            ]
          },
          "metadata": {
            "tags": []
          },
          "execution_count": 73
        }
      ]
    },
    {
      "cell_type": "markdown",
      "metadata": {
        "id": "AHOxV4WHmGnn",
        "colab_type": "text"
      },
      "source": [
        "**Build Models**\n",
        "We don’t know which algorithms would be good on this problem or what configurations to use.\n",
        "\n",
        "We get an idea from the plots that some of the classes are partially linearly separable in some dimensions, so we are expecting generally good results.\n",
        "\n",
        "**Let’s test 6 different algorithms:**\n",
        "\n",
        "- Logistic Regression (LR)\n",
        "- Linear Discriminant Analysis (LDA)\n",
        "- K-Nearest Neighbors (KNN).\n",
        "- Classification and Regression Trees (CART).\n",
        "- Gaussian Naive Bayes (NB).\n",
        "- Support Vector Machines (SVM)."
      ]
    },
    {
      "cell_type": "code",
      "metadata": {
        "id": "Wwvavtd_nbrJ",
        "colab_type": "code",
        "colab": {}
      },
      "source": [
        "# defining models to a list for easy evaluation\n",
        "models = list()\n",
        "\n",
        "models.append(('LR', \n",
        "               LogisticRegression(solver='liblinear', multi_class='ovr'))\n",
        "              )\n",
        "\n",
        "models.append(('LDA',\n",
        "               LinearDiscriminantAnalysis()))\n",
        "\n",
        "models.append(('KNN',\n",
        "               KNeighborsClassifier()))\n",
        "\n",
        "models.append(('CART',\n",
        "               DecisionTreeClassifier()))\n",
        "\n",
        "models.append(('NB',\n",
        "               GaussianNB()))\n",
        "\n",
        "models.append(('SVM',\n",
        "               SVC(gamma='auto')))"
      ],
      "execution_count": 0,
      "outputs": []
    },
    {
      "cell_type": "code",
      "metadata": {
        "id": "HSzpg5lBnyou",
        "colab_type": "code",
        "outputId": "38b6ab3d-fc00-4732-c7e3-8be33f22bf32",
        "colab": {
          "base_uri": "https://localhost:8080/",
          "height": 434
        }
      },
      "source": [
        "# evaluate the models\n",
        "results = list()\n",
        "names = list()\n",
        "\n",
        "for name, model in models:\n",
        "    kfold = StratifiedKFold(n_splits=10, random_state=1, shuffle=True)\n",
        "    cv_results = cross_val_score(model, X_train, y_train, cv=kfold, scoring='accuracy', n_jobs=-1)\n",
        "    results.append(cv_results)\n",
        "    names.append(name)\n",
        "\n",
        "    print(f'{name}:\\nmean accuracy: {round(cv_results.mean(),5)}  \\nstd accuracy: {round(cv_results.std(),5)}\\n-------------------')"
      ],
      "execution_count": 77,
      "outputs": [
        {
          "output_type": "stream",
          "text": [
            "LR:\n",
            "mean accuracy: 0.90833  \n",
            "std accuracy: 0.05833\n",
            "-------------------\n",
            "LDA:\n",
            "mean accuracy: 0.96667  \n",
            "std accuracy: 0.05528\n",
            "-------------------\n",
            "KNN:\n",
            "mean accuracy: 0.94167  \n",
            "std accuracy: 0.05336\n",
            "-------------------\n",
            "CART:\n",
            "mean accuracy: 0.88333  \n",
            "std accuracy: 0.07638\n",
            "-------------------\n",
            "NB:\n",
            "mean accuracy: 0.9  \n",
            "std accuracy: 0.08975\n",
            "-------------------\n",
            "SVM:\n",
            "mean accuracy: 0.96667  \n",
            "std accuracy: 0.05528\n",
            "-------------------\n"
          ],
          "name": "stdout"
        }
      ]
    },
    {
      "cell_type": "markdown",
      "metadata": {
        "id": "EcBUi8FkubHY",
        "colab_type": "text"
      },
      "source": [
        "# Select model"
      ]
    },
    {
      "cell_type": "code",
      "metadata": {
        "id": "wvUDX_GSuhY1",
        "colab_type": "code",
        "colab": {
          "base_uri": "https://localhost:8080/",
          "height": 390
        },
        "outputId": "fec1c66d-e3a9-4cc0-adde-cd810a3d7959"
      },
      "source": [
        "# ploting models accuracy results using boxplot\n",
        "plt.figure(figsize= (8,6))\n",
        "\n",
        "plt.boxplot(x=results,  labels=names)\n",
        "plt.title('models Accuracy Results')\n",
        "plt.show()"
      ],
      "execution_count": 65,
      "outputs": [
        {
          "output_type": "display_data",
          "data": {
            "image/png": "[encoded data removed]",
            "text/plain": [
              "<Figure size 576x432 with 1 Axes>"
            ]
          },
          "metadata": {
            "tags": []
          }
        }
      ]
    },
    {
      "cell_type": "markdown",
      "metadata": {
        "id": "GFgExe92u2iO",
        "colab_type": "text"
      },
      "source": [
        "# Final Model (Make Predictions)\n",
        "**SVM with 97% mean accuracy**"
      ]
    },
    {
      "cell_type": "code",
      "metadata": {
        "id": "_qZB7B4ixO9f",
        "colab_type": "code",
        "colab": {}
      },
      "source": [
        "FinalModel = SVC(gamma='auto')\n",
        "\n",
        "FinalModel.fit(X_train, y_train)\n",
        "\n",
        "pred = FinalModel.predict(X_test)"
      ],
      "execution_count": 0,
      "outputs": []
    },
    {
      "cell_type": "code",
      "metadata": {
        "id": "EDXO-vszymVW",
        "colab_type": "code",
        "colab": {
          "base_uri": "https://localhost:8080/",
          "height": 173
        },
        "outputId": "d99d3393-e764-4baa-bdc0-c888ae22237c"
      },
      "source": [
        "pred"
      ],
      "execution_count": 79,
      "outputs": [
        {
          "output_type": "execute_result",
          "data": {
            "text/plain": [
              "array(['Iris-setosa', 'Iris-versicolor', 'Iris-versicolor', 'Iris-setosa',\n",
              "       'Iris-virginica', 'Iris-versicolor', 'Iris-virginica',\n",
              "       'Iris-setosa', 'Iris-setosa', 'Iris-virginica', 'Iris-versicolor',\n",
              "       'Iris-setosa', 'Iris-virginica', 'Iris-versicolor',\n",
              "       'Iris-versicolor', 'Iris-setosa', 'Iris-versicolor',\n",
              "       'Iris-versicolor', 'Iris-setosa', 'Iris-setosa', 'Iris-versicolor',\n",
              "       'Iris-versicolor', 'Iris-versicolor', 'Iris-setosa',\n",
              "       'Iris-virginica', 'Iris-versicolor', 'Iris-setosa', 'Iris-setosa',\n",
              "       'Iris-versicolor', 'Iris-virginica'], dtype=object)"
            ]
          },
          "metadata": {
            "tags": []
          },
          "execution_count": 79
        }
      ]
    },
    {
      "cell_type": "code",
      "metadata": {
        "id": "IF1KTSlHz9sb",
        "colab_type": "code",
        "colab": {
          "base_uri": "https://localhost:8080/",
          "height": 330
        },
        "outputId": "82033cc7-b072-4bb5-f489-3d78bbad462e"
      },
      "source": [
        "print(\"Accuracy Score: \",\n",
        "      round(accuracy_score(y_test, y_pred= pred, normalize= True), 2) * 100\n",
        "      )\n",
        "\n",
        "print(\"............................................\\nConfusion matrix:\\n\", \n",
        "      confusion_matrix(y_test, pred)\n",
        "      )\n",
        "\n",
        "print(\"............................................\\nClassification report:\\n\", \n",
        "      classification_report(y_test, pred)\n",
        "      )"
      ],
      "execution_count": 81,
      "outputs": [
        {
          "output_type": "stream",
          "text": [
            "Accuracy Score:  100.0\n",
            "............................................\n",
            "Confusion matrix:\n",
            " [[11  0  0]\n",
            " [ 0 13  0]\n",
            " [ 0  0  6]]\n",
            "............................................\n",
            "Classification report:\n",
            "                  precision    recall  f1-score   support\n",
            "\n",
            "    Iris-setosa       1.00      1.00      1.00        11\n",
            "Iris-versicolor       1.00      1.00      1.00        13\n",
            " Iris-virginica       1.00      1.00      1.00         6\n",
            "\n",
            "       accuracy                           1.00        30\n",
            "      macro avg       1.00      1.00      1.00        30\n",
            "   weighted avg       1.00      1.00      1.00        30\n",
            "\n"
          ],
          "name": "stdout"
        }
      ]
    }
  ]
}